{
 "cells": [
  {
   "cell_type": "markdown",
   "metadata": {},
   "source": [
    "# Assessment 2\n",
    "\n"
   ]
  },
  {
   "cell_type": "code",
   "execution_count": 1,
   "metadata": {},
   "outputs": [],
   "source": [
    "import numpy as np\n",
    "import matplotlib.pyplot as plt"
   ]
  },
  {
   "cell_type": "code",
   "execution_count": null,
   "metadata": {},
   "outputs": [],
   "source": [
    "epsilon = 125.7 * 0.36e-9\n",
    "sigma = 0.3345e-9\n",
    "argon_mass = 39.948* 1.67377e-27\n",
    "tau = np.sqrt(argon_mass * sigma ** 2 / epsilon)\n",
    "\n",
    "N = 2\n",
    "\n",
    "def lennard_jones(r):\n",
    "    return 4 * ((1 / r) ** 12 - (1 / r) ** 6)\n",
    "\n",
    "def force_coefficient(r):\n",
    "    return 24 * (-2 * (1 / r) ** 13 +(1 / r) ** 7)\n",
    "\n",
    "atoms = np.zeros(N, 3)\n",
    "atoms[0] = np.array([sigma, 0, 0])\n",
    "atoms[1] = np.array([0, 0, 0])\n",
    "\n",
    "dt = 0.001\n",
    "\n",
    "for "
   ]
  }
 ],
 "metadata": {
  "kernelspec": {
   "display_name": "Python 3",
   "language": "python",
   "name": "python3"
  },
  "language_info": {
   "codemirror_mode": {
    "name": "ipython",
    "version": 3
   },
   "file_extension": ".py",
   "mimetype": "text/x-python",
   "name": "python",
   "nbconvert_exporter": "python",
   "pygments_lexer": "ipython3",
   "version": "3.12.2"
  }
 },
 "nbformat": 4,
 "nbformat_minor": 2
}
